{
 "cells": [
  {
   "cell_type": "code",
   "execution_count": 1,
   "metadata": {},
   "outputs": [],
   "source": [
    "import numpy as np\n",
    "import os\n",
    "import glob\n",
    "import pickle\n",
    "import music21 as m21\n",
    "import tensorflow as tf\n",
    "from tensorflow.keras.utils import to_categorical\n",
    "from music21 import converter, instrument, stream, note, chord"
   ]
  },
  {
   "cell_type": "markdown",
   "metadata": {},
   "source": [
    "# First Create The Note Object From Midi Files"
   ]
  },
  {
   "cell_type": "code",
   "execution_count": 5,
   "metadata": {},
   "outputs": [],
   "source": [
    "def notes_from_midi():\n",
    "    #create a note objects off all notes, chords, and rests from midi files\n",
    "    notes = []\n",
    "    \n",
    "    for file in glob.glob('midi_files/*.mid'):\n",
    "        midi = converter.parse(file)\n",
    "        \n",
    "        #print(midi) -> To make sure it is creating a music stream object\n",
    "        \n",
    "        #notes to parse\n",
    "        notes_to_parse = None\n",
    "        \n",
    "        try: #songs have multiple paino parts\n",
    "            p_parts = instrument.partitionByInstrument(midi)\n",
    "#             print(len(p_parts)) # just checking to see if the output is what I want\n",
    "#             print(p_parts[1])\n",
    "            notes_to_parse = p_parts[0].recurse()\n",
    "        except: #when note is not a chord\n",
    "            notes_to_parse = midi.flat.notes\n",
    "            \n",
    "        for element in notes_to_parse:\n",
    "            if isinstance(element, note.Note):\n",
    "                notes.append(str(element.pitch) + \" \" + str(element.quarterLength))\n",
    "            elif isinstance(element, chord.Chord):\n",
    "                notes.append('.'.join(str(n) for n in element.normalOrder) + str(element.quarterLength))\n",
    "            elif isinstance(element, note.Rest):\n",
    "                notes.append(str(element.name) + \" \" + str(element.quarterLength))\n",
    "                \n",
    "#run this when you are ready to save the notes make sure they are correct first.\n",
    "#     with open('data/', 'wb') as filepath:\n",
    "#         pickle.dump(notes, filepath)\n",
    "        \n",
    "    return notes\n",
    "            \n",
    "            \n",
    "            \n",
    "            \n",
    "        "
   ]
  },
  {
   "cell_type": "code",
   "execution_count": 6,
   "metadata": {},
   "outputs": [],
   "source": [
    "def prepare_notes(notes):\n",
    "    '''\n",
    "    prepare the notes to be the input and output used by the network\n",
    "    \n",
    "    notes = note object created after parsing the midi files using M21\n",
    "    \n",
    "    Output: The input and output sequences to the LSTM network\n",
    "    \n",
    "    '''\n",
    "    #setting the sequence length to 100\n",
    "    sequence = 100 \n",
    "    \n",
    "    #creating all the unique notes for create the dictionary from\n",
    "    pitches = sorted(set(note for note in notes))\n",
    "    \n",
    "    #creating the note to int dict to map pitches to integers\n",
    "    note_dict = dict((note, number) for number, note in enumerate(pitches))\n",
    "    \n",
    "    lstm_input = []\n",
    "    lstm_output = []\n",
    "    \n",
    "    #creating inputs and corresponding outputs\n",
    "    for i in range(0, len(notes)- sequence, 1):\n",
    "        inputs = notes[i : i + sequence]\n",
    "        outputs = notes[i + sequence]\n",
    "        lstm_input.append([note_dict[pitch] for pitch in inputs])\n",
    "        lstm_output.append(note_dict[outputs])\n",
    "    \n",
    "    #creating all the objects to reshape network input to make compatable with lstm network\n",
    "    shape_1 = lstm_input\n",
    "    shape_2 = len(lstm_input)\n",
    "    shape_3 = sequence \n",
    "    \n",
    "    #reshaping lstm input for lstm\n",
    "    lstm_input = np.reshape(shape_1, (shape_2, shape_3, 1))\n",
    "    \n",
    "    #normalize lstm input with  number of unique notes\n",
    "    lstm_input = lstm_input / float(len(pitches))\n",
    "    #one_hot_encoding lstm_ input\n",
    "    lstm_output = to_categorical(lstm_output)\n",
    "    \n",
    "    return (lstm_input, lstm_output)\n",
    "    \n",
    "    "
   ]
  },
  {
   "cell_type": "code",
   "execution_count": 7,
   "metadata": {},
   "outputs": [],
   "source": [
    "x= notes_from_midi()\n",
    "inp, out = prepare_notes(x)"
   ]
  },
  {
   "cell_type": "code",
   "execution_count": 11,
   "metadata": {},
   "outputs": [
    {
     "data": {
      "text/plain": [
       "1"
      ]
     },
     "execution_count": 11,
     "metadata": {},
     "output_type": "execute_result"
    }
   ],
   "source": [
    "inp.shape[2]"
   ]
  },
  {
   "cell_type": "code",
   "execution_count": 12,
   "metadata": {},
   "outputs": [
    {
     "data": {
      "text/plain": [
       "2508"
      ]
     },
     "execution_count": 12,
     "metadata": {},
     "output_type": "execute_result"
    }
   ],
   "source": [
    "len(set(x))"
   ]
  },
  {
   "cell_type": "code",
   "execution_count": null,
   "metadata": {},
   "outputs": [],
   "source": []
  }
 ],
 "metadata": {
  "kernelspec": {
   "display_name": "Python 3",
   "language": "python",
   "name": "python3"
  },
  "language_info": {
   "codemirror_mode": {
    "name": "ipython",
    "version": 3
   },
   "file_extension": ".py",
   "mimetype": "text/x-python",
   "name": "python",
   "nbconvert_exporter": "python",
   "pygments_lexer": "ipython3",
   "version": "3.5.2"
  }
 },
 "nbformat": 4,
 "nbformat_minor": 2
}
