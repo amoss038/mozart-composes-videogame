{
 "cells": [
  {
   "cell_type": "code",
   "execution_count": 6,
   "metadata": {},
   "outputs": [],
   "source": [
    "import numpy as np\n",
    "import os\n",
    "import glob\n",
    "import pickle\n",
    "import music21 as m21\n",
    "import tensorflow as tf\n",
    "from tensorflow.keras.utils import to_categorical\n",
    "from music21 import converter, instrument, stream, note, chord\n"
   ]
  },
  {
   "cell_type": "markdown",
   "metadata": {},
   "source": [
    "# First Create The Note Object From Midi Files"
   ]
  },
  {
   "cell_type": "code",
   "execution_count": 21,
   "metadata": {},
   "outputs": [],
   "source": [
    "#This function transposes all the songs to either cmaj or amin, so that the model does not have to learn every key\n",
    "def transpose_song(song):\n",
    "    \n",
    "    #get the key for the song\n",
    "    parts = song.getElementsByClass(m21.stream.Part)\n",
    "    measure = parts[0].getElementsByClass(m21.stream.Measure)\n",
    "    #key = measure #### This might be working ... ? Can see the key within the music 21 object\n",
    "    \n",
    "    \n",
    "    #estimate the key using m21\n",
    "    key = song.analyze(\"key\")\n",
    "        \n",
    "    #get the interval for the song to transpose by either major or minor\n",
    "    if key.mode == \"major\":\n",
    "        interval = m21.interval.Interval(key.tonic, m21.pitch.Pitch(\"C\"))\n",
    "    elif key.mode == \"minor\":\n",
    "        interval = m21.interval.Interval(key.tonic, m21.pitch.Pitch(\"A\"))\n",
    "        \n",
    "    transposed_song = song.transpose(interval)\n",
    "    \n",
    "    return transposed_song \n",
    "        \n",
    "    "
   ]
  },
  {
   "cell_type": "code",
   "execution_count": 7,
   "metadata": {},
   "outputs": [],
   "source": [
    "def notes_from_midi():\n",
    "    #create a note objects off all notes, chords, and rests from midi files\n",
    "    notes = []\n",
    "    \n",
    "    for file in glob.glob('midi_files/*.mid'):\n",
    "        midi = converter.parse(file)\n",
    "        #Transpose the songs before we create the note object in the next function\n",
    "        #song = transpose_song(midi) Transposing did not work that well\n",
    "        #print(midi) -> To make sure it is creating a music stream object\n",
    "        \n",
    "        #notes to parse\n",
    "        notes_to_parse = None\n",
    "        \n",
    "        try: #songs have multiple paino parts\n",
    "            p_parts = instrument.partitionByInstrument(midi)\n",
    "#             print(len(p_parts)) # just checking to see if the output is what I want\n",
    "#             print(p_parts[1])\n",
    "            notes_to_parse = p_parts[0].recurse()\n",
    "        except: #when note is not a chord\n",
    "            notes_to_parse = midi.flat.notes\n",
    "            \n",
    "        for element in notes_to_parse:\n",
    "            if isinstance(element, note.Note):\n",
    "                notes.append(str(element.pitch) + \" \" + str(element.quarterLength))\n",
    "            elif isinstance(element, chord.Chord):\n",
    "                notes.append('.'.join(str(n) for n in element.normalOrder) + \" \" + str(element.quarterLength))\n",
    "            elif isinstance(element, note.Rest):\n",
    "                notes.append(str(element.name) + \" \" + str(element.quarterLength))\n",
    "                \n",
    "#run this when you are ready to save the notes make sure they are correct first.\n",
    "    with open('data/notes', 'wb') as filepath:\n",
    "        pickle.dump(notes, filepath)\n",
    "        \n",
    "    return notes   "
   ]
  },
  {
   "cell_type": "code",
   "execution_count": 1,
   "metadata": {},
   "outputs": [],
   "source": [
    "def prepare_notes():\n",
    "    '''\n",
    "    prepare the notes to be the input and output used by the network\n",
    "    \n",
    "    notes = note object created after parsing the midi files using M21\n",
    "    \n",
    "    Output: The input and output sequences to the LSTM network\n",
    "    \n",
    "    '''\n",
    "    \n",
    "    pickle_file = open(\"data/notes\", \"rb\")\n",
    "    notes = pickle.load(pickle_file)\n",
    "    #setting the sequence length to 100\n",
    "    #print(len(set(notes)))\n",
    "    sequence = 100 \n",
    "    \n",
    "    #creating all the unique notes for create the dictionary from\n",
    "    pitches = sorted(set(note for note in notes))\n",
    "    \n",
    "    #creating the note to int dict to map pitches to integers\n",
    "    note_dict = dict((note, number) for number, note in enumerate(pitches))\n",
    "    #print(note_dict)\n",
    "    lstm_input = []\n",
    "    lstm_output = []\n",
    "    \n",
    "    #creating inputs and corresponding outputs\n",
    "    for i in range(0, len(notes)- sequence, 1):\n",
    "        inputs = notes[i : i + sequence]\n",
    "        outputs = notes[i + sequence]\n",
    "        lstm_input.append([note_dict[pitch] for pitch in inputs])\n",
    "        lstm_output.append(note_dict[outputs])\n",
    "    \n",
    "    #creating all the objects to reshape network input to make compatable with lstm network\n",
    "    shape_1 = lstm_input\n",
    "    shape_2 = len(lstm_input)\n",
    "    shape_3 = sequence \n",
    "    \n",
    "    #reshaping lstm input for lstm\n",
    "    lstm_input = np.reshape(shape_1, (shape_2, shape_3, 1))\n",
    "    \n",
    "    #normalize lstm input with  number of unique notes\n",
    "    lstm_input = lstm_input / float(len(pitches))\n",
    "    #one_hot_encoding lstm_ input\n",
    "    lstm_output = to_categorical(lstm_output)\n",
    "    \n",
    "    return (lstm_input, lstm_output)"
   ]
  },
  {
   "cell_type": "code",
   "execution_count": 1,
   "metadata": {},
   "outputs": [],
   "source": [
    "pickle_file = open(\"data/notes\", \"rb\")\n",
    "notes = pickle.load(pickle_file)"
   ]
  },
  {
   "cell_type": "code",
   "execution_count": 16,
   "metadata": {},
   "outputs": [],
   "source": [
    "note_dict = dict((note, number) for number, note in enumerate(pitches))"
   ]
  }
 ],
 "metadata": {
  "kernelspec": {
   "display_name": "Python 3",
   "language": "python",
   "name": "python3"
  },
  "language_info": {
   "codemirror_mode": {
    "name": "ipython",
    "version": 3
   },
   "file_extension": ".py",
   "mimetype": "text/x-python",
   "name": "python",
   "nbconvert_exporter": "python",
   "pygments_lexer": "ipython3",
   "version": "3.7.7"
  }
 },
 "nbformat": 4,
 "nbformat_minor": 2
}
